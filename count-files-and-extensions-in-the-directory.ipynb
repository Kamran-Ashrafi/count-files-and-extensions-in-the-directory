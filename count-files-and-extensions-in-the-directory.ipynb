{
 "cells": [
  {
   "cell_type": "code",
   "execution_count": 1,
   "metadata": {},
   "outputs": [
    {
     "name": "stdout",
     "output_type": "stream",
     "text": [
      "Files are: 266\n",
      "No. of File Names with given string= 114\n"
     ]
    }
   ],
   "source": [
    "import os\n",
    "from glob import glob\n",
    "import re\n",
    "\n",
    "# Task 1\n",
    "# Create a class which takes a directory path when its instance is created.\n",
    "\n",
    "class Task:\n",
    "    def __init__(self, path):\n",
    "        self.path = path\n",
    "# Task 2\n",
    "# Create a function named count which takes following optional parameters and returns the total number of files in the directory\n",
    "#(stored in class instance).\n",
    "\n",
    "# Optional Parameters:\n",
    "# 1) extension (exact match i.e. count files whose extension match and handle case sensitivity)\n",
    "# 2) file_name (partial match i.e. count files whose name have the given string. Also handle case sensitivity) \n",
    "    \n",
    "    def count(self, extension, file_name):\n",
    "        os.chdir(self.path)        # Changing directory path which is assigned by user when class instance is created. \n",
    "        count_names = 0\n",
    "        if(extension != \"\") or (extension != \" \"):\n",
    "            if(extension.startswith('.')):\n",
    "                ext = glob(\"*\" + extension)\n",
    "            else:\n",
    "                ext = glob(\"*.\" + extension)\n",
    "                \n",
    "        if(file_name != \" \") and (file_name != \"\") and (extension != \"\") and (extension != \" \"):  \n",
    "            for i in ext:\n",
    "                if(re.search(file_name, i, re.IGNORECASE)):   # partial match using re.search()\n",
    "                    count_names += 1                          # Handling case sensitivity using re.IGNORECASE   \n",
    "        \n",
    "        result = print(\"Files are: \" + str(len(ext)) + \"\\nNo. of File Names with given string= \" + str(count_names))\n",
    "        \n",
    "        return result\n",
    "\n",
    "obj_class = Task('C:\\\\Users\\\\DELL\\\\Desktop\\\\MyDailyTaskAtPF')  # Type Directory Path Here\n",
    "obj_class.count(\"TxT\",file_name = \"BoY\")                       # Mention optional parameters here"
   ]
  },
  {
   "cell_type": "code",
   "execution_count": null,
   "metadata": {},
   "outputs": [],
   "source": []
  }
 ],
 "metadata": {
  "kernelspec": {
   "display_name": "Python 3",
   "language": "python",
   "name": "python3"
  },
  "language_info": {
   "codemirror_mode": {
    "name": "ipython",
    "version": 3
   },
   "file_extension": ".py",
   "mimetype": "text/x-python",
   "name": "python",
   "nbconvert_exporter": "python",
   "pygments_lexer": "ipython3",
   "version": "3.8.3"
  }
 },
 "nbformat": 4,
 "nbformat_minor": 4
}
